{
  "nbformat": 4,
  "nbformat_minor": 0,
  "metadata": {
    "kernelspec": {
      "display_name": "Python 3",
      "language": "python",
      "name": "python3"
    },
    "language_info": {
      "codemirror_mode": {
        "name": "ipython",
        "version": 3
      },
      "file_extension": ".py",
      "mimetype": "text/x-python",
      "name": "python",
      "nbconvert_exporter": "python",
      "pygments_lexer": "ipython3",
      "version": "3.7.1"
    },
    "colab": {
      "name": "Run SPCA Fit.ipynb",
      "provenance": []
    }
  },
  "cells": [
    {
      "cell_type": "code",
      "metadata": {
        "id": "DFUBau1H9LqS",
        "colab_type": "code",
        "colab": {
          "base_uri": "https://localhost:8080/",
          "height": 1000
        },
        "outputId": "fcfa3faf-6ab2-41e9-df16-e61021773ddd"
      },
      "source": [
        "!pip install allensdk"
      ],
      "execution_count": 0,
      "outputs": [
        {
          "output_type": "stream",
          "text": [
            "Collecting allensdk\n",
            "\u001b[?25l  Downloading https://files.pythonhosted.org/packages/3d/19/057279dc19dadd5bb122d18ec75bd8a6c5cb879ce79aedd6854019f66893/allensdk-1.3.0-py3-none-any.whl (1.5MB)\n",
            "\r\u001b[K     |▏                               | 10kB 14.3MB/s eta 0:00:01\r\u001b[K     |▍                               | 20kB 3.3MB/s eta 0:00:01\r\u001b[K     |▋                               | 30kB 4.4MB/s eta 0:00:01\r\u001b[K     |▉                               | 40kB 3.0MB/s eta 0:00:01\r\u001b[K     |█                               | 51kB 3.4MB/s eta 0:00:01\r\u001b[K     |█▎                              | 61kB 4.1MB/s eta 0:00:01\r\u001b[K     |█▌                              | 71kB 4.3MB/s eta 0:00:01\r\u001b[K     |█▊                              | 81kB 4.5MB/s eta 0:00:01\r\u001b[K     |██                              | 92kB 5.0MB/s eta 0:00:01\r\u001b[K     |██▏                             | 102kB 4.8MB/s eta 0:00:01\r\u001b[K     |██▍                             | 112kB 4.8MB/s eta 0:00:01\r\u001b[K     |██▋                             | 122kB 4.8MB/s eta 0:00:01\r\u001b[K     |██▉                             | 133kB 4.8MB/s eta 0:00:01\r\u001b[K     |███                             | 143kB 4.8MB/s eta 0:00:01\r\u001b[K     |███▎                            | 153kB 4.8MB/s eta 0:00:01\r\u001b[K     |███▌                            | 163kB 4.8MB/s eta 0:00:01\r\u001b[K     |███▋                            | 174kB 4.8MB/s eta 0:00:01\r\u001b[K     |███▉                            | 184kB 4.8MB/s eta 0:00:01\r\u001b[K     |████                            | 194kB 4.8MB/s eta 0:00:01\r\u001b[K     |████▎                           | 204kB 4.8MB/s eta 0:00:01\r\u001b[K     |████▌                           | 215kB 4.8MB/s eta 0:00:01\r\u001b[K     |████▊                           | 225kB 4.8MB/s eta 0:00:01\r\u001b[K     |█████                           | 235kB 4.8MB/s eta 0:00:01\r\u001b[K     |█████▏                          | 245kB 4.8MB/s eta 0:00:01\r\u001b[K     |█████▍                          | 256kB 4.8MB/s eta 0:00:01\r\u001b[K     |█████▋                          | 266kB 4.8MB/s eta 0:00:01\r\u001b[K     |█████▉                          | 276kB 4.8MB/s eta 0:00:01\r\u001b[K     |██████                          | 286kB 4.8MB/s eta 0:00:01\r\u001b[K     |██████▎                         | 296kB 4.8MB/s eta 0:00:01\r\u001b[K     |██████▌                         | 307kB 4.8MB/s eta 0:00:01\r\u001b[K     |██████▊                         | 317kB 4.8MB/s eta 0:00:01\r\u001b[K     |███████                         | 327kB 4.8MB/s eta 0:00:01\r\u001b[K     |███████                         | 337kB 4.8MB/s eta 0:00:01\r\u001b[K     |███████▎                        | 348kB 4.8MB/s eta 0:00:01\r\u001b[K     |███████▌                        | 358kB 4.8MB/s eta 0:00:01\r\u001b[K     |███████▊                        | 368kB 4.8MB/s eta 0:00:01\r\u001b[K     |████████                        | 378kB 4.8MB/s eta 0:00:01\r\u001b[K     |████████▏                       | 389kB 4.8MB/s eta 0:00:01\r\u001b[K     |████████▍                       | 399kB 4.8MB/s eta 0:00:01\r\u001b[K     |████████▋                       | 409kB 4.8MB/s eta 0:00:01\r\u001b[K     |████████▉                       | 419kB 4.8MB/s eta 0:00:01\r\u001b[K     |█████████                       | 430kB 4.8MB/s eta 0:00:01\r\u001b[K     |█████████▎                      | 440kB 4.8MB/s eta 0:00:01\r\u001b[K     |█████████▌                      | 450kB 4.8MB/s eta 0:00:01\r\u001b[K     |█████████▊                      | 460kB 4.8MB/s eta 0:00:01\r\u001b[K     |██████████                      | 471kB 4.8MB/s eta 0:00:01\r\u001b[K     |██████████▏                     | 481kB 4.8MB/s eta 0:00:01\r\u001b[K     |██████████▍                     | 491kB 4.8MB/s eta 0:00:01\r\u001b[K     |██████████▋                     | 501kB 4.8MB/s eta 0:00:01\r\u001b[K     |██████████▊                     | 512kB 4.8MB/s eta 0:00:01\r\u001b[K     |███████████                     | 522kB 4.8MB/s eta 0:00:01\r\u001b[K     |███████████▏                    | 532kB 4.8MB/s eta 0:00:01\r\u001b[K     |███████████▍                    | 542kB 4.8MB/s eta 0:00:01\r\u001b[K     |███████████▋                    | 552kB 4.8MB/s eta 0:00:01\r\u001b[K     |███████████▉                    | 563kB 4.8MB/s eta 0:00:01\r\u001b[K     |████████████                    | 573kB 4.8MB/s eta 0:00:01\r\u001b[K     |████████████▎                   | 583kB 4.8MB/s eta 0:00:01\r\u001b[K     |████████████▌                   | 593kB 4.8MB/s eta 0:00:01\r\u001b[K     |████████████▊                   | 604kB 4.8MB/s eta 0:00:01\r\u001b[K     |█████████████                   | 614kB 4.8MB/s eta 0:00:01\r\u001b[K     |█████████████▏                  | 624kB 4.8MB/s eta 0:00:01\r\u001b[K     |█████████████▍                  | 634kB 4.8MB/s eta 0:00:01\r\u001b[K     |█████████████▋                  | 645kB 4.8MB/s eta 0:00:01\r\u001b[K     |█████████████▉                  | 655kB 4.8MB/s eta 0:00:01\r\u001b[K     |██████████████                  | 665kB 4.8MB/s eta 0:00:01\r\u001b[K     |██████████████▏                 | 675kB 4.8MB/s eta 0:00:01\r\u001b[K     |██████████████▍                 | 686kB 4.8MB/s eta 0:00:01\r\u001b[K     |██████████████▋                 | 696kB 4.8MB/s eta 0:00:01\r\u001b[K     |██████████████▉                 | 706kB 4.8MB/s eta 0:00:01\r\u001b[K     |███████████████                 | 716kB 4.8MB/s eta 0:00:01\r\u001b[K     |███████████████▎                | 727kB 4.8MB/s eta 0:00:01\r\u001b[K     |███████████████▌                | 737kB 4.8MB/s eta 0:00:01\r\u001b[K     |███████████████▊                | 747kB 4.8MB/s eta 0:00:01\r\u001b[K     |████████████████                | 757kB 4.8MB/s eta 0:00:01\r\u001b[K     |████████████████▏               | 768kB 4.8MB/s eta 0:00:01\r\u001b[K     |████████████████▍               | 778kB 4.8MB/s eta 0:00:01\r\u001b[K     |████████████████▋               | 788kB 4.8MB/s eta 0:00:01\r\u001b[K     |████████████████▉               | 798kB 4.8MB/s eta 0:00:01\r\u001b[K     |█████████████████               | 808kB 4.8MB/s eta 0:00:01\r\u001b[K     |█████████████████▎              | 819kB 4.8MB/s eta 0:00:01\r\u001b[K     |█████████████████▌              | 829kB 4.8MB/s eta 0:00:01\r\u001b[K     |█████████████████▊              | 839kB 4.8MB/s eta 0:00:01\r\u001b[K     |█████████████████▉              | 849kB 4.8MB/s eta 0:00:01\r\u001b[K     |██████████████████              | 860kB 4.8MB/s eta 0:00:01\r\u001b[K     |██████████████████▎             | 870kB 4.8MB/s eta 0:00:01\r\u001b[K     |██████████████████▌             | 880kB 4.8MB/s eta 0:00:01\r\u001b[K     |██████████████████▊             | 890kB 4.8MB/s eta 0:00:01\r\u001b[K     |███████████████████             | 901kB 4.8MB/s eta 0:00:01\r\u001b[K     |███████████████████▏            | 911kB 4.8MB/s eta 0:00:01\r\u001b[K     |███████████████████▍            | 921kB 4.8MB/s eta 0:00:01\r\u001b[K     |███████████████████▋            | 931kB 4.8MB/s eta 0:00:01\r\u001b[K     |███████████████████▉            | 942kB 4.8MB/s eta 0:00:01\r\u001b[K     |████████████████████            | 952kB 4.8MB/s eta 0:00:01\r\u001b[K     |████████████████████▎           | 962kB 4.8MB/s eta 0:00:01\r\u001b[K     |████████████████████▌           | 972kB 4.8MB/s eta 0:00:01\r\u001b[K     |████████████████████▊           | 983kB 4.8MB/s eta 0:00:01\r\u001b[K     |█████████████████████           | 993kB 4.8MB/s eta 0:00:01\r\u001b[K     |█████████████████████▏          | 1.0MB 4.8MB/s eta 0:00:01\r\u001b[K     |█████████████████████▎          | 1.0MB 4.8MB/s eta 0:00:01\r\u001b[K     |█████████████████████▌          | 1.0MB 4.8MB/s eta 0:00:01\r\u001b[K     |█████████████████████▊          | 1.0MB 4.8MB/s eta 0:00:01\r\u001b[K     |██████████████████████          | 1.0MB 4.8MB/s eta 0:00:01\r\u001b[K     |██████████████████████▏         | 1.1MB 4.8MB/s eta 0:00:01\r\u001b[K     |██████████████████████▍         | 1.1MB 4.8MB/s eta 0:00:01\r\u001b[K     |██████████████████████▋         | 1.1MB 4.8MB/s eta 0:00:01\r\u001b[K     |██████████████████████▉         | 1.1MB 4.8MB/s eta 0:00:01\r\u001b[K     |███████████████████████         | 1.1MB 4.8MB/s eta 0:00:01\r\u001b[K     |███████████████████████▎        | 1.1MB 4.8MB/s eta 0:00:01\r\u001b[K     |███████████████████████▌        | 1.1MB 4.8MB/s eta 0:00:01\r\u001b[K     |███████████████████████▊        | 1.1MB 4.8MB/s eta 0:00:01\r\u001b[K     |████████████████████████        | 1.1MB 4.8MB/s eta 0:00:01\r\u001b[K     |████████████████████████▏       | 1.1MB 4.8MB/s eta 0:00:01\r\u001b[K     |████████████████████████▍       | 1.2MB 4.8MB/s eta 0:00:01\r\u001b[K     |████████████████████████▋       | 1.2MB 4.8MB/s eta 0:00:01\r\u001b[K     |████████████████████████▊       | 1.2MB 4.8MB/s eta 0:00:01\r\u001b[K     |█████████████████████████       | 1.2MB 4.8MB/s eta 0:00:01\r\u001b[K     |█████████████████████████▏      | 1.2MB 4.8MB/s eta 0:00:01\r\u001b[K     |█████████████████████████▍      | 1.2MB 4.8MB/s eta 0:00:01\r\u001b[K     |█████████████████████████▋      | 1.2MB 4.8MB/s eta 0:00:01\r\u001b[K     |█████████████████████████▉      | 1.2MB 4.8MB/s eta 0:00:01\r\u001b[K     |██████████████████████████      | 1.2MB 4.8MB/s eta 0:00:01\r\u001b[K     |██████████████████████████▎     | 1.2MB 4.8MB/s eta 0:00:01\r\u001b[K     |██████████████████████████▌     | 1.3MB 4.8MB/s eta 0:00:01\r\u001b[K     |██████████████████████████▊     | 1.3MB 4.8MB/s eta 0:00:01\r\u001b[K     |███████████████████████████     | 1.3MB 4.8MB/s eta 0:00:01\r\u001b[K     |███████████████████████████▏    | 1.3MB 4.8MB/s eta 0:00:01\r\u001b[K     |███████████████████████████▍    | 1.3MB 4.8MB/s eta 0:00:01\r\u001b[K     |███████████████████████████▋    | 1.3MB 4.8MB/s eta 0:00:01\r\u001b[K     |███████████████████████████▉    | 1.3MB 4.8MB/s eta 0:00:01\r\u001b[K     |████████████████████████████    | 1.3MB 4.8MB/s eta 0:00:01\r\u001b[K     |████████████████████████████▎   | 1.3MB 4.8MB/s eta 0:00:01\r\u001b[K     |████████████████████████████▍   | 1.4MB 4.8MB/s eta 0:00:01\r\u001b[K     |████████████████████████████▋   | 1.4MB 4.8MB/s eta 0:00:01\r\u001b[K     |████████████████████████████▉   | 1.4MB 4.8MB/s eta 0:00:01\r\u001b[K     |█████████████████████████████   | 1.4MB 4.8MB/s eta 0:00:01\r\u001b[K     |█████████████████████████████▎  | 1.4MB 4.8MB/s eta 0:00:01\r\u001b[K     |█████████████████████████████▌  | 1.4MB 4.8MB/s eta 0:00:01\r\u001b[K     |█████████████████████████████▊  | 1.4MB 4.8MB/s eta 0:00:01\r\u001b[K     |██████████████████████████████  | 1.4MB 4.8MB/s eta 0:00:01\r\u001b[K     |██████████████████████████████▏ | 1.4MB 4.8MB/s eta 0:00:01\r\u001b[K     |██████████████████████████████▍ | 1.4MB 4.8MB/s eta 0:00:01\r\u001b[K     |██████████████████████████████▋ | 1.5MB 4.8MB/s eta 0:00:01\r\u001b[K     |██████████████████████████████▉ | 1.5MB 4.8MB/s eta 0:00:01\r\u001b[K     |███████████████████████████████ | 1.5MB 4.8MB/s eta 0:00:01\r\u001b[K     |███████████████████████████████▎| 1.5MB 4.8MB/s eta 0:00:01\r\u001b[K     |███████████████████████████████▌| 1.5MB 4.8MB/s eta 0:00:01\r\u001b[K     |███████████████████████████████▊| 1.5MB 4.8MB/s eta 0:00:01\r\u001b[K     |███████████████████████████████▉| 1.5MB 4.8MB/s eta 0:00:01\r\u001b[K     |████████████████████████████████| 1.5MB 4.8MB/s \n",
            "\u001b[?25hRequirement already satisfied: jinja2>=2.7.3 in /usr/local/lib/python3.6/dist-packages (from allensdk) (2.10.3)\n",
            "Collecting tables==3.5.1\n",
            "\u001b[?25l  Downloading https://files.pythonhosted.org/packages/ab/79/4e1301a87f3b7f27aa6c9cb1aeba4875ff3edb62a6fe3872dc8f04983db4/tables-3.5.1-cp36-cp36m-manylinux1_x86_64.whl (4.3MB)\n",
            "\u001b[K     |████████████████████████████████| 4.3MB 37.4MB/s \n",
            "\u001b[?25hCollecting statsmodels==0.9.0\n",
            "\u001b[?25l  Downloading https://files.pythonhosted.org/packages/85/d1/69ee7e757f657e7f527cbf500ec2d295396e5bcec873cf4eb68962c41024/statsmodels-0.9.0-cp36-cp36m-manylinux1_x86_64.whl (7.4MB)\n",
            "\u001b[K     |████████████████████████████████| 7.4MB 18.9MB/s \n",
            "\u001b[?25hCollecting simplejson>=3.10.0\n",
            "\u001b[?25l  Downloading https://files.pythonhosted.org/packages/98/87/a7b98aa9256c8843f92878966dc3d8d914c14aad97e2c5ce4798d5743e07/simplejson-3.17.0.tar.gz (83kB)\n",
            "\u001b[K     |████████████████████████████████| 92kB 10.3MB/s \n",
            "\u001b[?25hCollecting aiohttp==3.6.2\n",
            "\u001b[?25l  Downloading https://files.pythonhosted.org/packages/7c/39/7eb5f98d24904e0f6d3edb505d4aa60e3ef83c0a58d6fe18244a51757247/aiohttp-3.6.2-cp36-cp36m-manylinux1_x86_64.whl (1.2MB)\n",
            "\u001b[K     |████████████████████████████████| 1.2MB 38.5MB/s \n",
            "\u001b[?25hCollecting psycopg2-binary>=2.7\n",
            "\u001b[?25l  Downloading https://files.pythonhosted.org/packages/1e/c0/16303cef8d54fdcfae7be7880cf471f21449225687f61cc3be2a7ef4e6e5/psycopg2_binary-2.8.4-cp36-cp36m-manylinux1_x86_64.whl (2.9MB)\n",
            "\u001b[K     |████████████████████████████████| 2.9MB 34.5MB/s \n",
            "\u001b[?25hRequirement already satisfied: matplotlib>=1.4.3 in /usr/local/lib/python3.6/dist-packages (from allensdk) (3.1.2)\n",
            "Collecting hdmf==1.0.2\n",
            "\u001b[?25l  Downloading https://files.pythonhosted.org/packages/c1/a9/1f31bbee98035d7947da45e30530a5126a6207d6664c064314fc0d64155a/hdmf-1.0.2-py2.py3-none-any.whl (78kB)\n",
            "\u001b[K     |████████████████████████████████| 81kB 9.8MB/s \n",
            "\u001b[?25hCollecting pynrrd>=0.2.1\n",
            "  Downloading https://files.pythonhosted.org/packages/6d/3b/9935799ebe6c9e3b4f2b7709491a7831d558a6f9579f5211a7ce6bab2bc0/pynrrd-0.4.1-py2.py3-none-any.whl\n",
            "Requirement already satisfied: scipy>=0.15.1 in /usr/local/lib/python3.6/dist-packages (from allensdk) (1.3.3)\n",
            "Collecting requests-toolbelt\n",
            "\u001b[?25l  Downloading https://files.pythonhosted.org/packages/60/ef/7681134338fc097acef8d9b2f8abe0458e4d87559c689a8c306d0957ece5/requests_toolbelt-0.9.1-py2.py3-none-any.whl (54kB)\n",
            "\u001b[K     |████████████████████████████████| 61kB 7.9MB/s \n",
            "\u001b[?25hCollecting simpleitk\n",
            "\u001b[?25l  Downloading https://files.pythonhosted.org/packages/f8/d8/53338c34f71020725ffb3557846c80af96c29c03bc883551a2565aa68a7c/SimpleITK-1.2.4-cp36-cp36m-manylinux1_x86_64.whl (42.5MB)\n",
            "\u001b[K     |████████████████████████████████| 42.5MB 87kB/s \n",
            "\u001b[?25hRequirement already satisfied: six>=1.9.0 in /usr/local/lib/python3.6/dist-packages (from allensdk) (1.12.0)\n",
            "Requirement already satisfied: future>=0.14.3 in /usr/local/lib/python3.6/dist-packages (from allensdk) (0.16.0)\n",
            "Requirement already satisfied: h5py>=2.8 in /usr/local/lib/python3.6/dist-packages (from allensdk) (2.8.0)\n",
            "Collecting nest-asyncio==1.2.0\n",
            "  Downloading https://files.pythonhosted.org/packages/81/f3/e59eb5fa5c41c7e6ae9741ed18534dbfae15ad29040a3927396678934b28/nest_asyncio-1.2.0-py3-none-any.whl\n",
            "Requirement already satisfied: scikit-image>=0.14.0 in /usr/local/lib/python3.6/dist-packages (from allensdk) (0.15.0)\n",
            "Requirement already satisfied: seaborn in /usr/local/lib/python3.6/dist-packages (from allensdk) (0.9.0)\n",
            "Requirement already satisfied: xarray in /usr/local/lib/python3.6/dist-packages (from allensdk) (0.11.3)\n",
            "Requirement already satisfied: pandas>=0.25.1 in /usr/local/lib/python3.6/dist-packages (from allensdk) (0.25.3)\n",
            "Collecting pynwb==1.0.2\n",
            "\u001b[?25l  Downloading https://files.pythonhosted.org/packages/82/72/c709ff36701cd4791cb3e296df7421acbac11699406c331eb9f10c79289b/pynwb-1.0.2-py2.py3-none-any.whl (96kB)\n",
            "\u001b[K     |████████████████████████████████| 102kB 10.9MB/s \n",
            "\u001b[?25hRequirement already satisfied: numpy>=1.15.4 in /usr/local/lib/python3.6/dist-packages (from allensdk) (1.17.4)\n",
            "Collecting glymur\n",
            "\u001b[?25l  Downloading https://files.pythonhosted.org/packages/d1/f9/01b464dd2b312c1f9bec26f985f2d0a9eef1a7390e407588578cc135fde0/Glymur-0.8.19.tar.gz (3.4MB)\n",
            "\u001b[K     |████████████████████████████████| 3.4MB 35.4MB/s \n",
            "\u001b[?25hCollecting marshmallow==3.0.0rc6\n",
            "\u001b[?25l  Downloading https://files.pythonhosted.org/packages/dd/d6/b6b2b90a9e10edf99a8bea3bc5200619829f04c9d9c0c5b3839d68baf072/marshmallow-3.0.0rc6-py2.py3-none-any.whl (42kB)\n",
            "\u001b[K     |████████████████████████████████| 51kB 7.1MB/s \n",
            "\u001b[?25hRequirement already satisfied: requests in /usr/local/lib/python3.6/dist-packages (from allensdk) (2.21.0)\n",
            "Collecting scikit-build\n",
            "\u001b[?25l  Downloading https://files.pythonhosted.org/packages/8a/b5/c6ca60421991c22e69b9a950b0d046e06d714f79f7071946ab885c7115fb/scikit_build-0.10.0-py2.py3-none-any.whl (66kB)\n",
            "\u001b[K     |████████████████████████████████| 71kB 9.3MB/s \n",
            "\u001b[?25hCollecting argschema\n",
            "  Downloading https://files.pythonhosted.org/packages/f0/ec/bd27b60a9fcbae7c56e40d87c268a58b75c83181779e78235b320462dba5/argschema-1.17.5-py2.py3-none-any.whl\n",
            "Requirement already satisfied: MarkupSafe>=0.23 in /usr/local/lib/python3.6/dist-packages (from jinja2>=2.7.3->allensdk) (1.1.1)\n",
            "Collecting mock>=2.0\n",
            "  Downloading https://files.pythonhosted.org/packages/05/d2/f94e68be6b17f46d2c353564da56e6fb89ef09faeeff3313a046cb810ca9/mock-3.0.5-py2.py3-none-any.whl\n",
            "Requirement already satisfied: numexpr>=2.6.2 in /usr/local/lib/python3.6/dist-packages (from tables==3.5.1->allensdk) (2.7.0)\n",
            "Requirement already satisfied: patsy in /usr/local/lib/python3.6/dist-packages (from statsmodels==0.9.0->allensdk) (0.5.1)\n",
            "Collecting multidict<5.0,>=4.5\n",
            "\u001b[?25l  Downloading https://files.pythonhosted.org/packages/b6/e1/f3db8d6a6d1de8222ceed7f549b8421c35bc57dd9b359e8487f2f07d7d25/multidict-4.7.2-cp36-cp36m-manylinux1_x86_64.whl (147kB)\n",
            "\u001b[K     |████████████████████████████████| 153kB 52.4MB/s \n",
            "\u001b[?25hCollecting idna-ssl>=1.0; python_version < \"3.7\"\n",
            "  Downloading https://files.pythonhosted.org/packages/46/03/07c4894aae38b0de52b52586b24bf189bb83e4ddabfe2e2c8f2419eec6f4/idna-ssl-1.1.0.tar.gz\n",
            "Collecting yarl<2.0,>=1.0\n",
            "\u001b[?25l  Downloading https://files.pythonhosted.org/packages/95/8f/0209fc5d975f839344c33c822ff2f7ef80f6b1e984673a5a68f960bfa583/yarl-1.4.2-cp36-cp36m-manylinux1_x86_64.whl (252kB)\n",
            "\u001b[K     |████████████████████████████████| 256kB 38.4MB/s \n",
            "\u001b[?25hCollecting async-timeout<4.0,>=3.0\n",
            "  Downloading https://files.pythonhosted.org/packages/e1/1e/5a4441be21b0726c4464f3f23c8b19628372f606755a9d2e46c187e65ec4/async_timeout-3.0.1-py3-none-any.whl\n",
            "Requirement already satisfied: attrs>=17.3.0 in /usr/local/lib/python3.6/dist-packages (from aiohttp==3.6.2->allensdk) (19.3.0)\n",
            "Requirement already satisfied: chardet<4.0,>=2.0 in /usr/local/lib/python3.6/dist-packages (from aiohttp==3.6.2->allensdk) (3.0.4)\n",
            "Requirement already satisfied: typing-extensions>=3.6.5; python_version < \"3.7\" in /usr/local/lib/python3.6/dist-packages (from aiohttp==3.6.2->allensdk) (3.6.6)\n",
            "Requirement already satisfied: kiwisolver>=1.0.1 in /usr/local/lib/python3.6/dist-packages (from matplotlib>=1.4.3->allensdk) (1.1.0)\n",
            "Requirement already satisfied: cycler>=0.10 in /usr/local/lib/python3.6/dist-packages (from matplotlib>=1.4.3->allensdk) (0.10.0)\n",
            "Requirement already satisfied: python-dateutil>=2.1 in /usr/local/lib/python3.6/dist-packages (from matplotlib>=1.4.3->allensdk) (2.6.1)\n",
            "Requirement already satisfied: pyparsing!=2.0.4,!=2.1.2,!=2.1.6,>=2.0.1 in /usr/local/lib/python3.6/dist-packages (from matplotlib>=1.4.3->allensdk) (2.4.5)\n",
            "Collecting ruamel.yaml\n",
            "\u001b[?25l  Downloading https://files.pythonhosted.org/packages/fa/90/ecff85a2e9c497e2fa7142496e10233556b5137db5bd46f3f3b006935ca8/ruamel.yaml-0.16.5-py2.py3-none-any.whl (123kB)\n",
            "\u001b[K     |████████████████████████████████| 133kB 45.3MB/s \n",
            "\u001b[?25hRequirement already satisfied: imageio>=2.0.1 in /usr/local/lib/python3.6/dist-packages (from scikit-image>=0.14.0->allensdk) (2.4.1)\n",
            "Requirement already satisfied: pillow>=4.3.0 in /usr/local/lib/python3.6/dist-packages (from scikit-image>=0.14.0->allensdk) (4.3.0)\n",
            "Requirement already satisfied: PyWavelets>=0.4.0 in /usr/local/lib/python3.6/dist-packages (from scikit-image>=0.14.0->allensdk) (1.1.1)\n",
            "Requirement already satisfied: networkx>=2.0 in /usr/local/lib/python3.6/dist-packages (from scikit-image>=0.14.0->allensdk) (2.4)\n",
            "Requirement already satisfied: pytz>=2017.2 in /usr/local/lib/python3.6/dist-packages (from pandas>=0.25.1->allensdk) (2018.9)\n",
            "Requirement already satisfied: certifi in /usr/local/lib/python3.6/dist-packages (from pynwb==1.0.2->allensdk) (2019.11.28)\n",
            "Requirement already satisfied: idna in /usr/local/lib/python3.6/dist-packages (from pynwb==1.0.2->allensdk) (2.8)\n",
            "Requirement already satisfied: urllib3 in /usr/local/lib/python3.6/dist-packages (from pynwb==1.0.2->allensdk) (1.24.3)\n",
            "Requirement already satisfied: setuptools in /usr/local/lib/python3.6/dist-packages (from glymur->allensdk) (42.0.2)\n",
            "Requirement already satisfied: wheel>=0.29.0 in /usr/local/lib/python3.6/dist-packages (from scikit-build->allensdk) (0.33.6)\n",
            "Requirement already satisfied: packaging in /usr/local/lib/python3.6/dist-packages (from scikit-build->allensdk) (19.2)\n",
            "Collecting ruamel.yaml.clib>=0.1.2; platform_python_implementation == \"CPython\" and python_version < \"3.8\"\n",
            "\u001b[?25l  Downloading https://files.pythonhosted.org/packages/53/77/4bcd63f362bcb6c8f4f06253c11f9772f64189bf08cf3f40c5ccbda9e561/ruamel.yaml.clib-0.2.0-cp36-cp36m-manylinux1_x86_64.whl (548kB)\n",
            "\u001b[K     |████████████████████████████████| 552kB 31.6MB/s \n",
            "\u001b[?25hRequirement already satisfied: olefile in /usr/local/lib/python3.6/dist-packages (from pillow>=4.3.0->scikit-image>=0.14.0->allensdk) (0.46)\n",
            "Requirement already satisfied: decorator>=4.3.0 in /usr/local/lib/python3.6/dist-packages (from networkx>=2.0->scikit-image>=0.14.0->allensdk) (4.4.1)\n",
            "Building wheels for collected packages: simplejson, glymur, idna-ssl\n",
            "  Building wheel for simplejson (setup.py) ... \u001b[?25l\u001b[?25hdone\n",
            "  Created wheel for simplejson: filename=simplejson-3.17.0-cp36-cp36m-linux_x86_64.whl size=114203 sha256=9008c082668e4fa8a0cf1225558b1f3bd345bf3e06c11df6f95902667d623b91\n",
            "  Stored in directory: /root/.cache/pip/wheels/86/c0/83/dcd0339abb2640544bb8e0938aab2d069cef55e5647ce6e097\n",
            "  Building wheel for glymur (setup.py) ... \u001b[?25l\u001b[?25hdone\n",
            "  Created wheel for glymur: filename=Glymur-0.8.19-cp36-none-any.whl size=2721999 sha256=95e9dabe9612da43e2bb95f4945fb0a56370af84492911e822d0a28b6f2241d2\n",
            "  Stored in directory: /root/.cache/pip/wheels/6a/c6/f6/918d148fb2aa6a13606af5475644e8116e9398485c36f0d995\n",
            "  Building wheel for idna-ssl (setup.py) ... \u001b[?25l\u001b[?25hdone\n",
            "  Created wheel for idna-ssl: filename=idna_ssl-1.1.0-cp36-none-any.whl size=3163 sha256=7b052c42110cb42768077aca765bac5ff990b308b7792b578f42237114f44dbe\n",
            "  Stored in directory: /root/.cache/pip/wheels/d3/00/b3/32d613e19e08a739751dd6bf998cfed277728f8b2127ad4eb7\n",
            "Successfully built simplejson glymur idna-ssl\n",
            "Installing collected packages: mock, tables, statsmodels, simplejson, multidict, idna-ssl, yarl, async-timeout, aiohttp, psycopg2-binary, ruamel.yaml.clib, ruamel.yaml, hdmf, pynrrd, requests-toolbelt, simpleitk, nest-asyncio, pynwb, glymur, marshmallow, scikit-build, argschema, allensdk\n",
            "  Found existing installation: tables 3.4.4\n",
            "    Uninstalling tables-3.4.4:\n",
            "      Successfully uninstalled tables-3.4.4\n",
            "  Found existing installation: statsmodels 0.10.2\n",
            "    Uninstalling statsmodels-0.10.2:\n",
            "      Successfully uninstalled statsmodels-0.10.2\n"
          ],
          "name": "stdout"
        }
      ]
    },
    {
      "cell_type": "code",
      "metadata": {
        "id": "ncRs4ViL9LqY",
        "colab_type": "code",
        "colab": {}
      },
      "source": [
        ""
      ],
      "execution_count": 0,
      "outputs": []
    },
    {
      "cell_type": "code",
      "metadata": {
        "id": "bsoFo6_s9Lqc",
        "colab_type": "code",
        "colab": {}
      },
      "source": [
        ""
      ],
      "execution_count": 0,
      "outputs": []
    }
  ]
}